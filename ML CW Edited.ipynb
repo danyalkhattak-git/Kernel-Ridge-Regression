{
 "cells": [
  {
   "cell_type": "markdown",
   "id": "634c0312",
   "metadata": {
    "scrolled": true
   },
   "source": [
    "## Kernel Ridge Regression to predict a multi-dimensional dataset. \n",
    "## By:  Danyal Khattak"
   ]
  },
  {
   "cell_type": "code",
   "execution_count": 140,
   "id": "32b3387e",
   "metadata": {},
   "outputs": [
    {
     "name": "stdout",
     "output_type": "stream",
     "text": [
      "               X0          X1          X2          X3          X4          X5  \\\n",
      "count  750.000000  750.000000  750.000000  750.000000  750.000000  750.000000   \n",
      "mean     2.519700    2.459476    2.564704    2.485659    2.492346    2.552303   \n",
      "std      1.417405    1.434879    1.440272    1.406441    1.421899    1.439931   \n",
      "min      0.001262    0.023160    0.000058    0.000789    0.000673    0.001135   \n",
      "25%      1.356004    1.228638    1.230003    1.347662    1.293080    1.330573   \n",
      "50%      2.552419    2.519088    2.686080    2.428134    2.420943    2.646105   \n",
      "75%      3.773946    3.685678    3.815053    3.641781    3.740733    3.773586   \n",
      "max      4.983416    4.988361    4.994463    4.993965    4.997069    4.997295   \n",
      "\n",
      "               X6          X7          X8          X9  ...         X11  \\\n",
      "count  750.000000  750.000000  750.000000  750.000000  ...  750.000000   \n",
      "mean     2.487033    2.510325    2.564264    2.426529  ...    2.509890   \n",
      "std      1.451266    1.466703    1.401814    1.443550  ...    1.511955   \n",
      "min      0.003267    0.000264    0.008624    0.005560  ...    0.000154   \n",
      "25%      1.253147    1.273875    1.413687    1.197545  ...    1.115669   \n",
      "50%      2.450613    2.482712    2.596845    2.364132  ...    2.581527   \n",
      "75%      3.732154    3.793468    3.782125    3.642483  ...    3.841920   \n",
      "max      4.963935    4.997526    4.982610    4.998366  ...    4.998588   \n",
      "\n",
      "              X12         X13         X14         X15         X16         X17  \\\n",
      "count  750.000000  750.000000  750.000000  750.000000  750.000000  750.000000   \n",
      "mean     2.423111    2.489251    2.546480    2.487053    2.459520    2.563114   \n",
      "std      1.478356    1.395035    1.431512    1.427561    1.400061    1.431320   \n",
      "min      0.003948    0.015608    0.001549    0.003584    0.002990    0.009961   \n",
      "25%      1.128334    1.345359    1.327742    1.263259    1.270184    1.420306   \n",
      "50%      2.445066    2.466571    2.542642    2.468240    2.490741    2.547353   \n",
      "75%      3.639374    3.671585    3.795774    3.708587    3.638835    3.792449   \n",
      "max      4.999357    4.990874    4.991738    4.994523    4.989489    4.994715   \n",
      "\n",
      "              X18         X19           y  \n",
      "count  750.000000  750.000000  750.000000  \n",
      "mean     2.514832    2.507344    1.243977  \n",
      "std      1.434440    1.462150    1.229728  \n",
      "min      0.004529    0.028853   -1.892362  \n",
      "25%      1.261704    1.179229    0.339755  \n",
      "50%      2.481464    2.508924    1.226969  \n",
      "75%      3.754281    3.786163    2.148302  \n",
      "max      4.999624    4.996676    4.137843  \n",
      "\n",
      "[8 rows x 21 columns]\n"
     ]
    }
   ],
   "source": [
    "import pandas as pd\n",
    "import numpy as np\n",
    "from sklearn.model_selection import train_test_split\n",
    "from sklearn.kernel_ridge import KernelRidge\n",
    "from sklearn.linear_model import LinearRegression  \n",
    "from sklearn.metrics import mean_squared_error\n",
    "from sklearn.model_selection import cross_val_score, GridSearchCV  \n",
    "from sklearn.metrics.pairwise import polynomial_kernel\n",
    "\n",
    "\n",
    "# Loading the dataset\n",
    "df = pd.read_csv(\"training_set.csv\")\n",
    "\n",
    "# Reporting descriptive statistics\n",
    "print(df.describe())"
   ]
  },
  {
   "cell_type": "code",
   "execution_count": 126,
   "id": "2e89f8ce",
   "metadata": {
    "scrolled": true
   },
   "outputs": [],
   "source": [
    "# Data Preprocessing\n",
    "\n",
    "# Splitting data into features and target variable\n",
    "X = df.iloc[:, :-1]  # All columns except the last are features\n",
    "y = df.iloc[:, -1]   # The last column is the target variable\n",
    "\n",
    "# Splitting data into training and validation sets\n",
    "X_train, X_validation, y_train, y_validation = train_test_split(\n",
    "    X, y, test_size=0.25, random_state=42\n",
    ")  # 25% for validation, ensuring reproducibility\n",
    "\n",
    "# Standardizing the features in both training and validation sets\n",
    "for col in X_train.columns:\n",
    "    col_mean = X_train[col].mean()  # Is calculating mean for the column\n",
    "    col_std = X_train[col].std()    # Is calculating standard deviation\n",
    "    # Is standardizing by subtracting mean, dividing by standard deviation:\n",
    "    X_train[col] = (X_train[col] - col_mean) / col_std \n",
    "    X_validation[col] = (X_validation[col] - col_mean) / col_std\n",
    "\n",
    "# Centering the target variable (subtracting the mean)\n",
    "y_mean = y_train.mean()\n",
    "y_train -= y_mean\n",
    "y_validation -= y_mean "
   ]
  },
  {
   "cell_type": "code",
   "execution_count": 127,
   "id": "e7c9431c",
   "metadata": {},
   "outputs": [],
   "source": [
    "    #To answer the question of which kernel function to use: the Linear, Polynomial, and Gaussian (RBF) Kernel functions are assessed for their performance giventhe test data. \n",
    "    #The standard of assessment is the lowest Mean Squared Error\n",
    "\n",
    "df = pd.read_csv(\"training_set.csv\")\n",
    "\n",
    "# Separating features and target variable\n",
    "X = df.iloc[:, :-1] \n",
    "y = df.iloc[:, -1] \n",
    "    \n",
    "# Splitting the training_set data into test and train sets. \n",
    "X_train, X_test, y_train, y_test = train_test_split(X, y, test_size=0.25, random_state=42)"
   ]
  },
  {
   "cell_type": "code",
   "execution_count": 128,
   "id": "a44d3f4c",
   "metadata": {},
   "outputs": [
    {
     "name": "stdout",
     "output_type": "stream",
     "text": [
      "Linear Kernel Mean Squared Error (MSE): 0.49093501920181276\n"
     ]
    }
   ],
   "source": [
    "#Function 1: Creating a Kernel Ridge Regression object with a linear Function\n",
    "lin_function = KernelRidge(alpha=1.0, kernel='linear')  \n",
    "\n",
    "# Fiting the model to the training data\n",
    "lin_function.fit(X_train, y_train) \n",
    "\n",
    "# Using the trained model for predictions on the test set\n",
    "y_pred = lin_function.predict(X_test)\n",
    "\n",
    "# Calculating Mean Squared Error (MSE)\n",
    "mse_lin = mean_squared_error(y_test, y_pred)\n",
    "\n",
    "# Printing the result\n",
    "print(\"Linear Kernel Mean Squared Error (MSE):\", mse_lin)"
   ]
  },
  {
   "cell_type": "code",
   "execution_count": 129,
   "id": "e9873a76",
   "metadata": {},
   "outputs": [
    {
     "name": "stdout",
     "output_type": "stream",
     "text": [
      "Polynomial Kernel Mean Squared Error (MSE): 0.20836734134652876\n"
     ]
    }
   ],
   "source": [
    "#Function 2: Creating a Kernel Ridge Regression object with a Polynomial Kernel\n",
    "# Creating a Kernel Ridge Regression model with a polynomial kernel\n",
    "\n",
    "poly_function = KernelRidge(alpha=1.0, kernel='poly', degree=2)\n",
    "# After trying different degrees, a degree of 2 offers the lowest MSE, as compared to other degrees, the MSE's of which are:\n",
    "# Degree 1: 0.4436\n",
    "# Degree 2: 0.2083*\n",
    "# Degree 3: 0.2126\n",
    "# Degree 4: 0.3060\n",
    "# Degree 5: 0.4581\n",
    "\n",
    "# Fitting the model to the training data\n",
    "poly_function.fit(X_train, y_train) \n",
    "\n",
    "# Making predictions on the test set\n",
    "y_pred_poly = poly_function.predict(X_test)\n",
    "\n",
    "# Calculating MSE\n",
    "mse_poly = mean_squared_error(y_test, y_pred_poly)\n",
    "\n",
    "print(\"Polynomial Kernel Mean Squared Error (MSE):\", mse_poly)\n"
   ]
  },
  {
   "cell_type": "code",
   "execution_count": 130,
   "id": "b8a17eec",
   "metadata": {},
   "outputs": [
    {
     "name": "stdout",
     "output_type": "stream",
     "text": [
      "Gaussian Kernel (RBF) Mean Squared Error (MSE): 0.44790989635648804\n"
     ]
    }
   ],
   "source": [
    "from sklearn.kernel_ridge import KernelRidge\n",
    "from sklearn.metrics import mean_squared_error\n",
    "# Function 3: Creating a Kernel Ridge Regression object with a Gaussian Kernel\n",
    "\n",
    "# Creating a Kernel Ridge Regression model with a Gaussian Function\n",
    "gaussian_function = KernelRidge(alpha=1.0, kernel='rbf', gamma=0.005) \n",
    "\n",
    "# Fitting the model to the training data\n",
    "gaussian_function.fit(X_train, y_train)\n",
    "\n",
    "# Making predictions on the test set\n",
    "y_pred_gaussian = gaussian_function.predict(X_test)\n",
    "\n",
    "# Calculating MSE\n",
    "mse_gaussian = mean_squared_error(y_test, y_pred_gaussian)\n",
    "\n",
    "print(\"Gaussian Kernel (RBF) Mean Squared Error (MSE):\", mse_gaussian)"
   ]
  },
  {
   "cell_type": "markdown",
   "id": "37861cbd",
   "metadata": {},
   "source": [
    "### Selected the Polynomial of Degree 2 as it had the lowest mean squared error"
   ]
  },
  {
   "cell_type": "code",
   "execution_count": 122,
   "id": "3da97db5",
   "metadata": {},
   "outputs": [],
   "source": [
    "#The polynomial_kernel computation serves as an approximation of the implicit Gram matrix used in the model fitting, but it's not an exact replica due to the \"kernel trick\" and regularization.\n",
    "# Creating an approximation of the Gram Matrix for Polynomial Kernel\n",
    "\n",
    "K = polynomial_kernel(X_train, degree=2)  "
   ]
  },
  {
   "cell_type": "code",
   "execution_count": 123,
   "id": "9edf1876",
   "metadata": {},
   "outputs": [
    {
     "name": "stdout",
     "output_type": "stream",
     "text": [
      "[[ 83.54881917  74.01390175  53.58026787 ...  59.25237824  55.95830019\n",
      "   49.14117928]\n",
      " [ 74.01390175 134.89024989  53.68538751 ...  86.68390947  65.55593714\n",
      "   56.45903313]\n",
      " [ 53.58026787  53.68538751  60.69719076 ...  48.48164648  45.43890289\n",
      "   45.20170821]\n",
      " ...\n",
      " [ 59.25237824  86.68390947  48.48164648 ...  84.11199379  64.44255103\n",
      "   35.34607696]\n",
      " [ 55.95830019  65.55593714  45.43890289 ...  64.44255103  87.5567849\n",
      "   39.88761715]\n",
      " [ 49.14117928  56.45903313  45.20170821 ...  35.34607696  39.88761715\n",
      "   69.95412457]]\n"
     ]
    }
   ],
   "source": [
    "print(K)"
   ]
  },
  {
   "cell_type": "code",
   "execution_count": 124,
   "id": "dde4727a",
   "metadata": {},
   "outputs": [
    {
     "name": "stdout",
     "output_type": "stream",
     "text": [
      "Gram Matrix Shape:  (562, 562)\n",
      "[[ 83.54881917  74.01390175  53.58026787  62.37735468  23.86591229]\n",
      " [ 74.01390175 134.89024989  53.68538751 107.96306313  46.55502913]\n",
      " [ 53.58026787  53.68538751  60.69719076  43.07117676  25.34945192]\n",
      " [ 62.37735468 107.96306313  43.07117676 134.1643817   47.63404364]\n",
      " [ 23.86591229  46.55502913  25.34945192  47.63404364  41.28213626]]\n"
     ]
    }
   ],
   "source": [
    "# Shape Verification of Gram Matrix (K)\n",
    "print(\"Gram Matrix Shape: \", K.shape)\n",
    "\n",
    "# Symmetry Verification of Gram Matrix (K)\n",
    "assert np.allclose(K,K.T)\n",
    "\n",
    "# Value Inspection (For a small subset)\n",
    "print(K[:5, :5]) "
   ]
  },
  {
   "cell_type": "code",
   "execution_count": 112,
   "id": "d401a4e7",
   "metadata": {},
   "outputs": [
    {
     "name": "stdout",
     "output_type": "stream",
     "text": [
      "MSE: 0.2126, Lambda: 0.005\n",
      "MSE: 0.2118, Lambda: 0.01\n",
      "MSE: 0.2082, Lambda: 0.04\n",
      "MSE: 0.2068, Lambda: 0.06\n",
      "MSE: 0.2058, Lambda: 0.08\n",
      "MSE: 0.2051, Lambda: 0.1\n",
      "MSE: 0.2046, Lambda: 0.12\n",
      "MSE: 0.2044, Lambda: 0.14\n",
      "MSE: 0.2043, Lambda: 0.16\n",
      "MSE: 0.2043, Lambda: 0.18\n",
      "MSE: 0.2044, Lambda: 0.19\n",
      "MSE: 0.2045, Lambda: 0.2\n",
      "MSE: 0.2052, Lambda: 0.25\n",
      "MSE: 0.2063, Lambda: 0.3\n",
      "MSE: 0.2077, Lambda: 0.35\n",
      "MSE: 0.2092, Lambda: 0.4\n",
      "MSE: 0.2125, Lambda: 0.5\n",
      "Best parameters: {'alpha': 0.16, 'degree': 2, 'kernel': 'poly'}\n"
     ]
    }
   ],
   "source": [
    "#Calculating the MSE for the following values of lambda, [0.005,0.01,0.04,0.06,0.08,0.1,0.12,0.14, 0.16, 0.18, 0.2,0.25,0.3,0.35, 0.4, 0.5] using cross validation. \n",
    "\n",
    "# Defining parameters for grid search\n",
    "param_grid = {'alpha': [0.005,0.01,0.04,0.06,0.08,0.1,0.12,0.14, 0.16, 0.18, 0.19, 0.2,0.25,0.3,0.35, 0.4, 0.5],\n",
    "              'kernel': ['poly'],\n",
    "              'degree': [2]}  \n",
    "\n",
    "# Creating a Kernel Ridge Regression estimator (base model)\n",
    "krr_estimator = KernelRidge()\n",
    "\n",
    "# Setting up grid search with cross-validation\n",
    "grid_search = GridSearchCV(krr_estimator, param_grid, cv=5, scoring='neg_mean_squared_error') \n",
    "grid_search.fit(X_train, y_train)  \n",
    "\n",
    "# Printing results for each parameter combination\n",
    "for i in range(len(grid_search.cv_results_['params'])):\n",
    "    params = grid_search.cv_results_['params'][i]\n",
    "    mean_score = grid_search.cv_results_['mean_test_score'][i]\n",
    "    mse = -mean_score\n",
    "    lambda_value = params['alpha']\n",
    "    print(f\"MSE: {mse:.4f}, Lambda: {lambda_value}\")\n",
    "\n",
    "# Best parameters (as before)\n",
    "print(\"Best parameters:\", grid_search.best_params_) "
   ]
  },
  {
   "cell_type": "code",
   "execution_count": 87,
   "id": "5bc3dc70",
   "metadata": {},
   "outputs": [
    {
     "data": {
      "image/png": "[encoded data removed]",
      "text/plain": [
       "<Figure size 800x600 with 1 Axes>"
      ]
     },
     "metadata": {},
     "output_type": "display_data"
    }
   ],
   "source": [
    "import matplotlib.pyplot as plt\n",
    "\n",
    "# Importing data from grid search results\n",
    "lambda_values = [params['alpha'] for params in grid_search.cv_results_['params']]\n",
    "mse_values = -grid_search.cv_results_['mean_test_score']\n",
    "\n",
    "# Creating the plot for MSE vs Lambda\n",
    "plt.figure(figsize=(8, 6))\n",
    "plt.plot(lambda_values, mse_values, marker='o', linestyle='-')\n",
    "plt.xlabel('Lambda (λ)')\n",
    "plt.ylabel('Mean Squared Error (MSE)')\n",
    "plt.title('MSE vs. Lambda')\n",
    "plt.xscale('log')  # Set logarithmic scale for x-axis (lambda)\n",
    "plt.grid(True)\n",
    "\n",
    "plt.show()\n",
    "\n",
    "\n",
    "#Selected range of lambdas: 0.08 to 0.35, with the lowest MSE at 0.19"
   ]
  },
  {
   "cell_type": "code",
   "execution_count": 139,
   "id": "4aea3698",
   "metadata": {},
   "outputs": [
    {
     "name": "stdout",
     "output_type": "stream",
     "text": [
      "Lambda: 0.080, Degrees of Freedom: 226.301\n",
      "Lambda: 0.100, Degrees of Freedom: 225.262\n",
      "Lambda: 0.120, Degrees of Freedom: 224.261\n",
      "Lambda: 0.140, Degrees of Freedom: 223.292\n",
      "Lambda: 0.160, Degrees of Freedom: 222.354\n",
      "Lambda: 0.180, Degrees of Freedom: 221.443\n",
      "Lambda: 0.190, Degrees of Freedom: 220.996\n",
      "Lambda: 0.200, Degrees of Freedom: 220.556\n",
      "Lambda: 0.250, Degrees of Freedom: 218.436\n",
      "Lambda: 0.300, Degrees of Freedom: 216.435\n",
      "Lambda: 0.350, Degrees of Freedom: 214.536\n"
     ]
    }
   ],
   "source": [
    "def calculate_df(K, lam):\n",
    "  n = K.shape[0]\n",
    "  H_lam = K @ np.linalg.inv(K + lam * np.eye(n))\n",
    "  df = np.trace(H_lam)\n",
    "  return df\n",
    "\n",
    "def calculate_dfs_for_lam_range(K, start_lam, end_lam, num_lam): #Calculates the degrees of freedom for various lambda values. \n",
    "    lam_values = [0.08,0.1,0.12,0.14, 0.16, 0.18,0.19, 0.2,0.25,0.3,0.35]\n",
    "\n",
    "lam_values_range = [0.08, 0.1, 0.12, 0.14, 0.16, 0.18, 0.19, 0.2, 0.25, 0.3, 0.35]\n",
    "\n",
    "# Calculate degrees of freedom\n",
    "degrees_of_freedom = [calculate_df(K, lam) for lam in lam_values_range]\n",
    "\n",
    "\n",
    "for lam, df in zip(lam_values_range, degrees_of_freedom):\n",
    "  print(f\"Lambda: {lam:.3f}, Degrees of Freedom: {df:.3f}\")"
   ]
  },
  {
   "cell_type": "code",
   "execution_count": 137,
   "id": "ad33bb0a",
   "metadata": {
    "scrolled": true
   },
   "outputs": [
    {
     "name": "stdout",
     "output_type": "stream",
     "text": [
      "Average MSE Polynomial Kernel, across splits: 0.1517492804592719\n",
      "Average MSE OLS, across splits: 0.4392103668913217\n"
     ]
    }
   ],
   "source": [
    "# Parameters\n",
    "num_splits = 5 \n",
    "\n",
    "# Results storage\n",
    "results_lin = np.zeros(num_splits)\n",
    "results_poly = np.zeros(num_splits)\n",
    "results_ols = np.zeros(num_splits)\n",
    "\n",
    "# Function to loop through splits \n",
    "for i in range(num_splits):\n",
    "  X_train, X_test, y_train, y_test = train_test_split(X, y, test_size=0.25, random_state=42 + i) # For different random iterations\n",
    "\n",
    "  # Polynomial Kernel\n",
    "  poly_function = KernelRidge(alpha=0.019, kernel='poly', degree=2)\n",
    "  poly_function.fit(X_train, y_train) \n",
    "  y_pred_poly = poly_function.predict(X_test)\n",
    "  results_poly[i] = mean_squared_error(y_test, y_pred_poly)\n",
    "\n",
    "  # OLS Benchmark\n",
    "  ols_model = LinearRegression()\n",
    "  ols_model.fit(X_train, y_train)\n",
    "  y_pred_ols = ols_model.predict(X_test)\n",
    "  results_ols[i] = mean_squared_error(y_test, y_pred_ols) \n",
    "\n",
    "\n",
    "# Print average MSEs across splits\n",
    "print(\"Average MSE Polynomial Kernel, across splits:\", np.mean(results_poly))\n",
    "print(\"Average MSE OLS, across splits:\", np.mean(results_ols)) \n",
    "\n",
    "# Due to some invisible, non-breaking space I was not able to run the code for range of Lambdas, however I decided to select the lambda with the lowest MSE calculated from before. "
   ]
  },
  {
   "cell_type": "code",
   "execution_count": 141,
   "id": "b12b314a",
   "metadata": {},
   "outputs": [],
   "source": [
    "#Loading the data\n",
    "test_data = pd.read_csv(\"test_set.csv\")\n",
    "X_test = test_data.iloc[:, :]\n",
    "\n",
    "model = best_model  \n",
    "\n",
    "# Making predictions using trained model\n",
    "predictions = model.predict(X_test)\n",
    "\n",
    "# Saving predictions to CSV\n",
    "pd.DataFrame(predictions).to_csv(\"submission.csv\", index=False, header=\"Predictions\") \n"
   ]
  },
  {
   "cell_type": "code",
   "execution_count": null,
   "id": "ee750987",
   "metadata": {},
   "outputs": [],
   "source": []
  }
 ],
 "metadata": {
  "kernelspec": {
   "display_name": "Python 3 (ipykernel)",
   "language": "python",
   "name": "python3"
  },
  "language_info": {
   "codemirror_mode": {
    "name": "ipython",
    "version": 3
   },
   "file_extension": ".py",
   "mimetype": "text/x-python",
   "name": "python",
   "nbconvert_exporter": "python",
   "pygments_lexer": "ipython3",
   "version": "3.10.9"
  }
 },
 "nbformat": 4,
 "nbformat_minor": 5
}
